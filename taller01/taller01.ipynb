{
 "cells": [
  {
   "cell_type": "markdown",
   "id": "f7138909",
   "metadata": {},
   "source": [
    "## Taller 1\n",
    "\n",
    "En este notebook hay algunos ejemplos útiles adicionales a lo visto en el taller. "
   ]
  },
  {
   "cell_type": "code",
   "execution_count": 26,
   "id": "003c0566",
   "metadata": {},
   "outputs": [],
   "source": [
    "#Primero importamos las librerias a utilizar\n",
    "import numpy as np #Tiene distintas funciones matemáticas\n",
    "import matplotlib.pylab as plt #Nos permite realizar gráficos\n",
    "import math #Funciones matemáticas para operar con escalares"
   ]
  },
  {
   "cell_type": "markdown",
   "id": "2a90c755",
   "metadata": {},
   "source": [
    "### Ejemplo de código simple"
   ]
  },
  {
   "cell_type": "code",
   "execution_count": 27,
   "id": "9b191a6c",
   "metadata": {},
   "outputs": [
    {
     "name": "stdout",
     "output_type": "stream",
     "text": [
      "[-125.          -58.81344307  -21.43347051   -4.62962963   -0.17146776\n",
      "    0.17146776    4.62962963   21.43347051   58.81344307  125.        ]\n"
     ]
    },
    {
     "data": {
      "image/png": "[encoded data removed]",
      "text/plain": [
       "<Figure size 640x480 with 1 Axes>"
      ]
     },
     "metadata": {},
     "output_type": "display_data"
    },
    {
     "name": "stdout",
     "output_type": "stream",
     "text": [
      "hola\n",
      "hola\n",
      "hola\n",
      "hola\n",
      "hola\n",
      "adios\n",
      "adios\n",
      "adios\n",
      "adios\n",
      "adios\n"
     ]
    }
   ],
   "source": [
    "def f(a):\n",
    "    b=a**3\n",
    "    return b\n",
    "\n",
    "x=np.linspace(-5,5,10)\n",
    "y=x**2\n",
    "\n",
    "z=f(x)\n",
    "print(z)\n",
    "\n",
    "plt.plot(x,y,label=\"funcion y \")\n",
    "plt.plot(x,z,label=\"funcion z \")\n",
    "plt.xlabel(\"x\")\n",
    "plt.ylabel(\"y\")\n",
    "plt.legend()\n",
    "plt.savefig(\"fn.pdf\")\n",
    "plt.show()\n",
    "\n",
    "cont=0\n",
    "while cont<10:\n",
    "    if cont<5:\n",
    "        print(\"hola\")\n",
    "    elif cont>=5:\n",
    "        print(\"adios\")\n",
    "\n",
    "    cont=cont+1\n",
    "\n",
    "#np.linalg.det()"
   ]
  },
  {
   "cell_type": "markdown",
   "id": "d52da4c3",
   "metadata": {},
   "source": [
    "### Python como calculadora"
   ]
  },
  {
   "cell_type": "code",
   "execution_count": 28,
   "id": "dda84ebc",
   "metadata": {},
   "outputs": [
    {
     "data": {
      "text/plain": [
       "np.float64(1.0)"
      ]
     },
     "execution_count": 28,
     "metadata": {},
     "output_type": "execute_result"
    }
   ],
   "source": [
    "\n",
    "a =6  #La variable a referencia al valor 6\n",
    "b=5\n",
    "c=a/b   #Division\n",
    "d=a//b  #Division descartando la parte decimal\n",
    "e=a*b #Producto\n",
    "f=a**b  # Potencia\n",
    "\n",
    "np.log(10)         # Logaritmo natural\n",
    "np.log10(10)       # Logaritmo en base 10\n",
    "np.sin(2*np.pi)    \n",
    "np.cos(2*np.pi)"
   ]
  },
  {
   "cell_type": "markdown",
   "id": "017e3514",
   "metadata": {},
   "source": [
    "### Arreglos"
   ]
  },
  {
   "cell_type": "code",
   "execution_count": 29,
   "id": "d9b46166",
   "metadata": {},
   "outputs": [
    {
     "name": "stdout",
     "output_type": "stream",
     "text": [
      "segunda fila [4 5 6]\n",
      "5\n",
      "9\n",
      "[[4 1]\n",
      " [2 2]]\n",
      "dot 5\n"
     ]
    }
   ],
   "source": [
    "#Un arreglo es un objeto del tipo ndarray, el cual se crea utilizando la función array()\n",
    "arr0 = np.array(22) #0D  \n",
    "arr1 = np.array([1, 2, 3, 4, 5]) #1D, largo 5\n",
    "arr21 = np.array( [[1],[2],[3]] )    #2D, tamaño 3x1\n",
    "arr22 = np.array([[1, 2, 3], \n",
    "                  [4, 5, 6]]) #2D, tamaño 2x3\n",
    "\n",
    "a=arr22[0,1] # Elemento (0,1). Los indices van de 0 a n-1\n",
    "col0=arr22[:,0]  #Primera columna\n",
    "fil1=arr22[1,:]   #Segunda fila\n",
    "print(\"segunda fila\", fil1)\n",
    "\n",
    "\n",
    "print (arr22[1,1])\n",
    "arr22[1,1]=9 #Podemos reasignar elementos de un arreglo\n",
    "print(arr22[1,1])\n",
    "\n",
    "\n",
    "filas,columnas=arr22.shape  #Para obtener el tamaño del arreglo\n",
    "filas=arr22.shape[0]\n",
    "\n",
    "\n",
    "a = np.zeros((2,2)) #Arreglo con 0. Muy útil cuando nos interesa inicializar expresiones \n",
    "b = np.ones((1,2)) #Arreglo con unos \n",
    "d = np.eye(2)     #Identidad    \n",
    "                      \n",
    "                    \n",
    "# funcion arange\n",
    "# start, stop, espaciamiento\n",
    "ara1 = np.arange(3.5,10.5,2) #Notamos que incluye el primer termino\n",
    "ara2 = np.arange(3.5,10.5)  #En general no incluye el último término \n",
    "ara3=np.arange(10.5)\n",
    "\n",
    "# funcion linspace\n",
    "# start, stop, cantidad de elementos (i.e length)\n",
    "lin1 = np.linspace(0,10,15)\n",
    "lin2 = np.linspace(0,10)  #50 elementos\n",
    "\n",
    "\n",
    "# Operaciones vectoriales y matriciales con arreglos\n",
    "u=np.array([1,2])\n",
    "v=np.array([5,6])\n",
    "A = np.array( [[1, 0], [0, 1]])\n",
    "B = np.array([[4, 1], [2, 2]])\n",
    "print(B)\n",
    "\n",
    "\n",
    "w=u+3.*v # suma de los elementos de los arreglos\n",
    "dot = np.dot(u,u)    # Producto punto\n",
    "print(\"dot\", dot)\n",
    "C = A@B # Multiplicación matricial. Tambien puede hacerce como np.dot(A,B)\n",
    "b = A@u      # Matriz por vector\n",
    "# CUIDADO al multiplicar dos arreglos!\n",
    "D = A*A    # Multiplicacion elemento por elemento"
   ]
  },
  {
   "cell_type": "markdown",
   "id": "3191fb0b",
   "metadata": {},
   "source": [
    "### Otras funciones útiles para arreglos\n"
   ]
  },
  {
   "cell_type": "code",
   "execution_count": 30,
   "id": "19b3a8ef",
   "metadata": {},
   "outputs": [
    {
     "name": "stdout",
     "output_type": "stream",
     "text": [
      "[[ 0.33333333 -0.16666667]\n",
      " [-0.33333333  0.66666667]]\n",
      "el valor de x es: [0.66666667 2.33333333]\n"
     ]
    }
   ],
   "source": [
    "# Algebra lineal\n",
    "invB = np.linalg.inv(B) # Inversa de una matriz\n",
    "detB= np.linalg.det(B) # determinante\n",
    "eigsB = np.linalg.eig(B) # valores y vectores propios\n",
    "print(invB)\n",
    "\n",
    "valores=eigsB[0]     # Valores propios\n",
    "vectores=eigsB[1]     # Vectores propios\n",
    "eig_valsB = np.linalg.eigvals(B)     # solo valores propios\n",
    "\n",
    "# Resolver un sistema Bm x  = vm\n",
    "x = np.linalg.solve(B,v)   \n",
    "print(\"el valor de x es:\", x)"
   ]
  },
  {
   "cell_type": "markdown",
   "id": "dbc00d3f",
   "metadata": {},
   "source": [
    "### Ciclos for, while"
   ]
  },
  {
   "cell_type": "code",
   "execution_count": 31,
   "id": "4c8b54d4",
   "metadata": {},
   "outputs": [
    {
     "name": "stdout",
     "output_type": "stream",
     "text": [
      "0 cont es menor a 5\n",
      "1 cont es menor a 5\n",
      "2 cont es menor a 5\n",
      "3 cont es menor a 5\n",
      "4 cont es menor a 5\n",
      "5 cont es 5\n",
      "6 cont es mayor a 5\n",
      "7 cont es mayor a 5\n",
      "8 cont es mayor a 5\n",
      "9 cont es mayor a 5\n",
      "10 cont es mayor a 5\n",
      "0\n",
      "1\n",
      "2\n"
     ]
    }
   ],
   "source": [
    "# #if, while, for\n",
    "cont=0\n",
    "while cont<=10:\n",
    "    if cont<5:\n",
    "        print (cont,\"cont es menor a 5\")\n",
    "    elif cont==5:\n",
    "        print(cont, \"cont es 5\")\n",
    "    else:\n",
    "        print(cont,\"cont es mayor a 5\")\n",
    "    cont=cont+1\n",
    "    \n",
    "for i in np.arange(3):\n",
    "    print(i)\n",
    "    "
   ]
  },
  {
   "cell_type": "markdown",
   "id": "de744e69",
   "metadata": {},
   "source": [
    "### Funciones"
   ]
  },
  {
   "cell_type": "code",
   "execution_count": 32,
   "id": "4107485b",
   "metadata": {},
   "outputs": [
    {
     "name": "stdout",
     "output_type": "stream",
     "text": [
      "0.5403025793650793\n",
      "0.5403023058681398\n"
     ]
    }
   ],
   "source": [
    "# Aproximacion de taylor para la funciones centradas en 0\n",
    "def Taylor(x,NN,func):\n",
    "    taylor_func = 0.\n",
    "    if func==\"sin\":\n",
    "        for n in np.arange(NN):\n",
    "            taylor_func = taylor_func + (-1)**n/(math.factorial(2*n+1))*x**(2*n+1)\n",
    "    elif func==\"cos\":\n",
    "        for n in np.arange(NN):\n",
    "            taylor_func = taylor_func + (-1)**n/(math.factorial(2*n))*x**(2*n)        \n",
    "    else:\n",
    "        print(\"Función no disponible\")\n",
    "        taylor_func=\"Función no disponible\"\n",
    "        \n",
    "    return taylor_func\n",
    "    \n",
    "  \n",
    "x = 1.\n",
    "n=5\n",
    "cos_approx = Taylor(x,n,\"cos\")\n",
    "cos_exac=np.cos(x)\n",
    "\n",
    "print(cos_approx)\n",
    "print(cos_exac)"
   ]
  },
  {
   "cell_type": "markdown",
   "id": "f5fc13ed",
   "metadata": {},
   "source": [
    "### Gráficos"
   ]
  },
  {
   "cell_type": "code",
   "execution_count": 33,
   "id": "6b4e6ed4",
   "metadata": {},
   "outputs": [
    {
     "data": {
      "image/png": "[encoded data removed]",
      "text/plain": [
       "<Figure size 640x480 with 1 Axes>"
      ]
     },
     "metadata": {},
     "output_type": "display_data"
    }
   ],
   "source": [
    "#Genero los valores a graficar. Por ejemplo, si queremos graficar una función \"f(x)\"\n",
    "N = 2\n",
    "arr = np.linspace(-5,5,101)  #Estos serían los \"x\" \n",
    "approx = Taylor(arr,N,\"cos\")# Estos serían los \"f(x)\" (caso aproximado)\n",
    "exact = np.cos(arr)         # Estos serían los \"f(x)\" (caso exacto)\n",
    "\n",
    "plt.close('all')\n",
    "plt.figure()        \n",
    "plt.plot(arr,exact, '-', color='b', lw = 2, label = 'exacta')\n",
    "plt.plot(arr,approx, '--', color='r', linewidth = 2, label = 'taylor')\n",
    "plt.grid(True)   #Grilla \n",
    "plt.xlim([-5,5])   #Límites eje x\n",
    "plt.ylim([-1.2,1.2])\n",
    "plt.xlabel(r'Eje $x$')  # Latex\n",
    "plt.ylabel('Eje y')\n",
    "#plt.xticks([-np.pi,-np.pi/2.,0.,np.pi/2,np.pi],[r'$-\\pi$',r'$-\\pi/2$',r'$\\pi$',\n",
    "#r'$\\pi/2$',r'$\\pi$'],fontsize = 16)\n",
    "#plt.xticks([-np.pi],[r'$-\\pi$'],fontsize = 16)\n",
    "    \n",
    "plt.title('Taylor vs Exacta')    \n",
    "#plt.axes().set_aspect('equal')     \n",
    "plt.legend(loc=0,fontsize=16)\n",
    "plt.savefig('./grafico.pdf')\n",
    "plt.show()\n"
   ]
  }
 ],
 "metadata": {
  "kernelspec": {
   "display_name": "taller",
   "language": "python",
   "name": "python3"
  },
  "language_info": {
   "codemirror_mode": {
    "name": "ipython",
    "version": 3
   },
   "file_extension": ".py",
   "mimetype": "text/x-python",
   "name": "python",
   "nbconvert_exporter": "python",
   "pygments_lexer": "ipython3",
   "version": "3.11.13"
  }
 },
 "nbformat": 4,
 "nbformat_minor": 5
}
