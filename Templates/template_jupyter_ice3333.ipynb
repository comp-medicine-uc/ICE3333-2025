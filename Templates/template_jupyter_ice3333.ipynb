{
 "cells": [
  {
   "cell_type": "markdown",
   "metadata": {},
   "source": [
    "<hr style=\"border:1px solid #808080\">                                                                                                                   </hr>\n",
    "<h1 style=\"color:#0176DE;text-align:center;margin:0;padding-top:0;\"> <b>Tarea 1</b>                                                                           </h1>\n",
    "<h1 style=\"color:#0176DE;text-align:center;margin:0;padding-top:0;\"> <b>ICE3333 Elementos Finitos No-Lineales</b>                                                                           </h1>\n",
    "<h4 style=\"color:#dbdbdb;text-align:center;margin:0;padding-top:0;\"> Departamento de Ingeniería Estructural y Geotécnica<br>  Pontificia Universidad Católica de Chile <br>    </h4>\n",
    "<p style=padding:0;margin:0;padding-top:0>\n",
    "<h3 style=\"color:#c1ccdb;text-align:center;margin:5;padding-top:0;\"> Estudiante: <span style=\"color:#dbdbdb;text-align:center;\"><b>XXXXX XXXXX</b></span></h3>\n",
    "</p>\n",
    "<h3 style=\"color:#c1ccdb;text-align:center;margin:0;padding-top:0;\"> 8 de agosto de 2025</h3>\n",
    "\n",
    "<hr style=\"border:1px solid #808080\">                                                                                                                   </hr>"
   ]
  },
  {
   "cell_type": "markdown",
   "metadata": {},
   "source": [
    "# Problema 1\n",
    "\n",
    "\n",
    "### 1.1"
   ]
  },
  {
   "cell_type": "code",
   "execution_count": 2,
   "metadata": {},
   "outputs": [
    {
     "name": "stdout",
     "output_type": "stream",
     "text": [
      "Tarea 1\n"
     ]
    }
   ],
   "source": [
    "import numpy as np\n",
    "import matplotlib.pyplot as plt\n",
    "\n",
    "print(\"Tarea 1\")"
   ]
  }
 ],
 "metadata": {
  "kernelspec": {
   "display_name": "fenicsx-env",
   "language": "python",
   "name": "python3"
  },
  "language_info": {
   "codemirror_mode": {
    "name": "ipython",
    "version": 3
   },
   "file_extension": ".py",
   "mimetype": "text/x-python",
   "name": "python",
   "nbconvert_exporter": "python",
   "pygments_lexer": "ipython3",
   "version": "3.13.5"
  }
 },
 "nbformat": 4,
 "nbformat_minor": 2
}
